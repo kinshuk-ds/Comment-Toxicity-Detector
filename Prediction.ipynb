{
 "cells": [
  {
   "cell_type": "code",
   "execution_count": 7,
   "id": "7158a633",
   "metadata": {},
   "outputs": [],
   "source": [
    "import numpy as np\n",
    "from keras.layers import TextVectorization\n",
    "from keras.models import load_model\n",
    "import gradio as gr\n",
    "import pandas as pd"
   ]
  },
  {
   "cell_type": "code",
   "execution_count": 8,
   "id": "5d5212c7",
   "metadata": {},
   "outputs": [],
   "source": [
    "model = load_model(\"modelV2.h5\")"
   ]
  },
  {
   "cell_type": "code",
   "execution_count": 9,
   "id": "4585becf",
   "metadata": {},
   "outputs": [],
   "source": [
    "df = pd.read_csv('train.csv')\n",
    "x = df['comment_text']"
   ]
  },
  {
   "cell_type": "code",
   "execution_count": 10,
   "id": "ce28f2fc",
   "metadata": {},
   "outputs": [],
   "source": [
    "max_features = 200000  # number of words in the vocab dictionary\n",
    "vectorizer = TextVectorization(\n",
    "    max_tokens=max_features, output_sequence_length=1800, output_mode='int')\n",
    "vectorizer.adapt(x.values)\n"
   ]
  },
  {
   "cell_type": "code",
   "execution_count": 11,
   "id": "2bab21d2",
   "metadata": {},
   "outputs": [],
   "source": [
    "def score_comment(comment):\n",
    "    input_str = vectorizer(comment) #text to seq of numbers\n",
    "    results = model.predict(np.expand_dims(input_str, 0)) #run through our model\n",
    "\n",
    "    text = ''\n",
    "    for idx, col in enumerate(['toxic', 'severe_toxic', 'obscene', 'thread', 'insult', 'identity_hate']):\n",
    "        text += '{}: {}\\n'.format(col, results[0][idx] > 0.5)\n",
    "\n",
    "    return text"
   ]
  },
  {
   "cell_type": "code",
   "execution_count": null,
   "id": "b55d4887",
   "metadata": {},
   "outputs": [
    {
     "name": "stderr",
     "output_type": "stream",
     "text": [
      "C:\\Users\\HP\\anaconda3\\lib\\site-packages\\gradio\\inputs.py:26: UserWarning: Usage of gradio.inputs is deprecated, and will not be supported in the future, please import your component from gradio.components\n",
      "  warnings.warn(\n",
      "C:\\Users\\HP\\anaconda3\\lib\\site-packages\\gradio\\deprecation.py:40: UserWarning: `optional` parameter is deprecated, and it has no effect\n",
      "  warnings.warn(value)\n",
      "C:\\Users\\HP\\anaconda3\\lib\\site-packages\\gradio\\deprecation.py:40: UserWarning: `numeric` parameter is deprecated, and it has no effect\n",
      "  warnings.warn(value)\n"
     ]
    },
    {
     "name": "stdout",
     "output_type": "stream",
     "text": [
      "Running on local URL:  http://127.0.0.1:7861\n",
      "\n",
      "Setting up a public link... we have recently upgraded the way public links are generated. If you encounter any problems, please report the issue and downgrade to gradio version 3.13.0\n",
      ".\n",
      "1/1 [==============================] - 5s 5s/step\n",
      "1/1 [==============================] - 0s 223ms/step\n",
      "1/1 [==============================] - 0s 195ms/step\n"
     ]
    }
   ],
   "source": [
    "interface = gr.Interface(fn=score_comment,\n",
    "                         inputs=gr.inputs.Textbox(lines=2, placeholder='Enter your comment'), outputs='text')\n",
    "interface.launch(share=True)\n"
   ]
  },
  {
   "cell_type": "code",
   "execution_count": null,
   "id": "00c0133b",
   "metadata": {},
   "outputs": [],
   "source": []
  }
 ],
 "metadata": {
  "kernelspec": {
   "display_name": "Python 3 (ipykernel)",
   "language": "python",
   "name": "python3"
  },
  "language_info": {
   "codemirror_mode": {
    "name": "ipython",
    "version": 3
   },
   "file_extension": ".py",
   "mimetype": "text/x-python",
   "name": "python",
   "nbconvert_exporter": "python",
   "pygments_lexer": "ipython3",
   "version": "3.9.12"
  }
 },
 "nbformat": 4,
 "nbformat_minor": 5
}
