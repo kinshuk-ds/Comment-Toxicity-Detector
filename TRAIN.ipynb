{
 "cells": [
  {
   "cell_type": "code",
   "execution_count": 1,
   "id": "0b446ec5",
   "metadata": {},
   "outputs": [
    {
     "name": "stderr",
     "output_type": "stream",
     "text": [
      "C:\\Users\\HP\\anaconda3\\lib\\site-packages\\scipy\\__init__.py:146: UserWarning: A NumPy version >=1.16.5 and <1.23.0 is required for this version of SciPy (detected version 1.24.0\n",
      "  warnings.warn(f\"A NumPy version >={np_minversion} and <{np_maxversion}\"\n"
     ]
    }
   ],
   "source": [
    "import os\n",
    "import tensorflow as tf\n",
    "import pandas as pd\n",
    "from keras.layers import Dense, Embedding, TextVectorization,LSTM,Dropout,Bidirectional\n",
    "from keras.models import Sequential\n",
    "from keras.callbacks import TensorBoard"
   ]
  },
  {
   "cell_type": "code",
   "execution_count": 2,
   "id": "f35dc017",
   "metadata": {},
   "outputs": [],
   "source": [
    "df=pd.read_csv('train.csv')\n",
    "#SPLIT OUT OUR DATA INTO COMMENTS AND FEATURES\n",
    "x=df['comment_text']\n",
    "y=df[df.columns[2:]].values #each comment has a vector now(array)\n",
    "#under x we have all our coments\n",
    "#under y we have all our labels\n"
   ]
  },
  {
   "cell_type": "code",
   "execution_count": 3,
   "id": "68639f9a",
   "metadata": {},
   "outputs": [],
   "source": [
    "log_dir = os.path.join(\"Logs\")\n",
    "tb_callback = TensorBoard(log_dir=log_dir)"
   ]
  },
  {
   "cell_type": "code",
   "execution_count": null,
   "id": "4b6d3c85",
   "metadata": {},
   "outputs": [],
   "source": [
    "## VECTORIZATION IS TOKENIZATION"
   ]
  },
  {
   "cell_type": "code",
   "execution_count": 4,
   "id": "5f88008b",
   "metadata": {},
   "outputs": [],
   "source": [
    "max_features=200000 #number of words in the vocab dictionary\n",
    "vectorizer=TextVectorization(max_tokens=max_features,\n",
    "                             output_sequence_length=1800,#maximum lenghth in token\n",
    "                             output_mode='int')#map every single word to integer value\n",
    "\n",
    "vectorizer.adapt(x.values)#teach vocab\n",
    "vectorized_text = vectorizer(x.values)#change the sentence to a seq of numbers."
   ]
  },
  {
   "cell_type": "code",
   "execution_count": 5,
   "id": "2daae9a4",
   "metadata": {},
   "outputs": [],
   "source": [
    "dataset=tf.data.Dataset.from_tensor_slices((vectorized_text,y))\n",
    "dataset=dataset.cache()+"
   ]
  },
  {
   "cell_type": "code",
   "execution_count": 6,
   "id": "ed557dad",
   "metadata": {},
   "outputs": [],
   "source": [
    "train=dataset.take(int(len(dataset)*.7))#take 70% of dataset\n",
    "val=dataset.skip(int(len(dataset)*.7)).take(int(len(dataset)*.2))\n",
    "test=dataset.skip(int(len(dataset)*.9)).take(int(len(dataset)*.1))\n",
    "#skip function skips partictular patrtition of dataset\n"
   ]
  },
  {
   "cell_type": "code",
   "execution_count": 7,
   "id": "e93de6e9",
   "metadata": {},
   "outputs": [],
   "source": [
    "model=Sequential() \n",
    "# Create the embedding Layer\n",
    "model.add(Embedding(max_features+1,32))\n",
    "# Implement a Bidirectional LSTM Layer\n",
    "model.add(Bidirectional(LSTM(32,activation='tanh')))\n",
    "# Feature extractor Fully connected Layers\n",
    "model.add(Dense(128,activation='relu'))\n",
    "model.add(Dense(256,activation='relu'))\n",
    "model.add(Dense(128,activation='relu'))\n",
    "# Final Layer\n",
    "model.add(Dense(6,activation='sigmoid'))"
   ]
  },
  {
   "cell_type": "code",
   "execution_count": 8,
   "id": "d02b38c6",
   "metadata": {},
   "outputs": [
    {
     "name": "stdout",
     "output_type": "stream",
     "text": [
      "Model: \"sequential\"\n",
      "_________________________________________________________________\n",
      " Layer (type)                Output Shape              Param #   \n",
      "=================================================================\n",
      " embedding (Embedding)       (None, None, 32)          6400032   \n",
      "                                                                 \n",
      " bidirectional (Bidirectiona  (None, 64)               16640     \n",
      " l)                                                              \n",
      "                                                                 \n",
      " dense (Dense)               (None, 128)               8320      \n",
      "                                                                 \n",
      " dense_1 (Dense)             (None, 256)               33024     \n",
      "                                                                 \n",
      " dense_2 (Dense)             (None, 128)               32896     \n",
      "                                                                 \n",
      " dense_3 (Dense)             (None, 6)                 774       \n",
      "                                                                 \n",
      "=================================================================\n",
      "Total params: 6,491,686\n",
      "Trainable params: 6,491,686\n",
      "Non-trainable params: 0\n",
      "_________________________________________________________________\n",
      "None\n",
      "6981/6981 [==============================] - 9379s 1s/step - loss: 0.0626 - accuracy: 0.9831 - val_loss: 0.0447 - val_accuracy: 0.9940\n"
     ]
    }
   ],
   "source": [
    "model.compile(loss='BinaryCrossentropy',optimizer='Adam',metrics='accuracy')\n",
    "print(model.summary())\n",
    "\n",
    "#Training Model\n",
    "model.fit(train,epochs=1,validation_data=val, callbacks=tb_callback)\n",
    "#epochs = no of times the model is trained\n",
    "model.save(\"modelV2.h5\")"
   ]
  },
  {
   "cell_type": "code",
   "execution_count": null,
   "id": "e3a38818",
   "metadata": {},
   "outputs": [],
   "source": []
  }
 ],
 "metadata": {
  "kernelspec": {
   "display_name": "Python 3 (ipykernel)",
   "language": "python",
   "name": "python3"
  },
  "language_info": {
   "codemirror_mode": {
    "name": "ipython",
    "version": 3
   },
   "file_extension": ".py",
   "mimetype": "text/x-python",
   "name": "python",
   "nbconvert_exporter": "python",
   "pygments_lexer": "ipython3",
   "version": "3.9.12"
  }
 },
 "nbformat": 4,
 "nbformat_minor": 5
}
